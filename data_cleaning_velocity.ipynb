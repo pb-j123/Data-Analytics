{
 "cells": [
  {
   "attachments": {},
   "cell_type": "markdown",
   "metadata": {},
   "source": [
    "### **Notebook for cleaning velocity data**\n",
    "#### Author: Hannah Nevel\n",
    "\n",
    "##### Data needs to be in the following format to run this program:\n",
    "- csv file\n",
    "- column names above each set of values\n",
    "- file located on local device"
   ]
  },
  {
   "attachments": {},
   "cell_type": "markdown",
   "metadata": {},
   "source": [
    "##### Import necessary libraries and data"
   ]
  },
  {
   "cell_type": "code",
   "execution_count": 32,
   "metadata": {},
   "outputs": [],
   "source": [
    "import numpy as np\n",
    "import pandas as pd\n",
    "import matplotlib.pyplot as plt\n",
    "import plotly.express as px\n"
   ]
  },
  {
   "attachments": {},
   "cell_type": "markdown",
   "metadata": {},
   "source": [
    "##### Define needed variables"
   ]
  },
  {
   "cell_type": "code",
   "execution_count": 33,
   "metadata": {},
   "outputs": [],
   "source": [
    "#Change all backslashes in file path to double back slashes\n",
    "file_location = 'C:\\\\Users\\\\HannahNevel\\\\OneDrive - STF Technologies LLC\\\\Desktop\\\\DOE RheoSurfR\\\\Motor Data\\\\velocity_error_data_05_03_2023.csv'\n",
    "\n",
    "#input velocity threshold value, all data values below this point will be removed\n",
    "velocity_threshold = 0.7\n",
    "\n",
    "#assign as a string the name of the first data column\n",
    "first_col = 'AMP 1 Velocity (mm/min)'\n",
    "\n",
    "#assign as a string the name of the time column\n",
    "time_col = 'Time (ms)'\n",
    "\n",
    "#assign a new filename for the cleaned data\n",
    "newfile = 'velocity_data_05_03_2023_cleaned.csv'"
   ]
  },
  {
   "attachments": {},
   "cell_type": "markdown",
   "metadata": {},
   "source": [
    "##### Define function to open and import csv or xlsx file, create data frame, and drop missing/null values"
   ]
  },
  {
   "cell_type": "code",
   "execution_count": 34,
   "metadata": {},
   "outputs": [],
   "source": [
    "def import_csv_file(filepath):\n",
    "    #file_opening = open(csvfilepath)\n",
    "    file = pd.read_csv(filepath)\n",
    "\n",
    "    file_data = pd.DataFrame(file).dropna()\n",
    "    return file_data\n",
    "\n",
    "def import_xlsx_file(filepath):\n",
    "    #file_opening = open(csvfilepath)\n",
    "    file = pd.read_excel(filepath)\n",
    "\n",
    "    file_data = pd.DataFrame(file).dropna()\n",
    "    return file_data\n",
    "\n",
    "imported_vel_data = import_csv_file(file_location)"
   ]
  },
  {
   "attachments": {},
   "cell_type": "markdown",
   "metadata": {},
   "source": [
    "#### Clean Data"
   ]
  },
  {
   "attachments": {},
   "cell_type": "markdown",
   "metadata": {},
   "source": [
    "##### Define function to shift time points to the first velocity value above given threshold"
   ]
  },
  {
   "cell_type": "code",
   "execution_count": 35,
   "metadata": {},
   "outputs": [],
   "source": [
    "def shift_time_col(imported_data_frame, vel_thresh, vel_col_name, time_col_name):\n",
    "    index_list = imported_data_frame[imported_data_frame[vel_col_name] < vel_thresh].index\n",
    "    time_value = imported_data_frame[time_col_name][len(index_list)-1]\n",
    "\n",
    "    for item in imported_data_frame[time_col_name]:\n",
    "        imported_data_frame[time_col_name] = imported_data_frame[time_col_name].replace(item, item-time_value)"
   ]
  },
  {
   "attachments": {},
   "cell_type": "markdown",
   "metadata": {},
   "source": [
    "##### Define function to remove data points where velocity is less than defined threshold"
   ]
  },
  {
   "cell_type": "code",
   "execution_count": 36,
   "metadata": {},
   "outputs": [],
   "source": [
    "def remove_vals(imported_data_frame, vel_thresh, column):\n",
    "    formatted = imported_data_frame.drop(imported_data_frame[imported_data_frame[column] < vel_thresh].index, inplace=True)\n",
    "    return formatted"
   ]
  },
  {
   "attachments": {},
   "cell_type": "markdown",
   "metadata": {},
   "source": [
    "##### Run data through cleaning functions, save as new csv and print"
   ]
  },
  {
   "cell_type": "code",
   "execution_count": 37,
   "metadata": {},
   "outputs": [
    {
     "name": "stdout",
     "output_type": "stream",
     "text": [
      "      AMP 1 Velocity (mm/min)  AMP 2 Velocity (mm/min)  Time (ms)  \\\n",
      "17                      0.800                    0.894        109   \n",
      "18                      0.908                    1.006        219   \n",
      "19                      0.908                    1.006        331   \n",
      "20                      1.070                    1.030        343   \n",
      "21                      1.209                    0.987        453   \n",
      "...                       ...                      ...        ...   \n",
      "3615                    1.149                    0.973     322583   \n",
      "3616                    0.923                    0.991     322603   \n",
      "3617                    0.937                    1.016     322714   \n",
      "3618                    0.846                    1.000     322834   \n",
      "3619                    0.846                    1.000     322953   \n",
      "\n",
      "      Target Velocity (mm/min)  \n",
      "17                           1  \n",
      "18                           1  \n",
      "19                           1  \n",
      "20                           1  \n",
      "21                           1  \n",
      "...                        ...  \n",
      "3615                         1  \n",
      "3616                         1  \n",
      "3617                         1  \n",
      "3618                         1  \n",
      "3619                         1  \n",
      "\n",
      "[3603 rows x 4 columns]\n"
     ]
    }
   ],
   "source": [
    "shift_time_col(imported_vel_data, velocity_threshold, first_col, time_col)\n",
    "remove_vals(imported_vel_data, velocity_threshold, first_col)\n",
    "\n",
    "print(imported_vel_data)\n",
    "\n",
    "imported_vel_data.to_csv(newfile)"
   ]
  },
  {
   "attachments": {},
   "cell_type": "markdown",
   "metadata": {},
   "source": [
    "#### Data Visualization"
   ]
  },
  {
   "cell_type": "code",
   "execution_count": 38,
   "metadata": {},
   "outputs": [],
   "source": [
    "#imported_vel_data.iloc[17:3603].plot(x='Time (ms)', y='AMP 1 Velocity (mm/min)', kind='scatter')"
   ]
  },
  {
   "cell_type": "code",
   "execution_count": null,
   "metadata": {},
   "outputs": [],
   "source": []
  }
 ],
 "metadata": {
  "kernelspec": {
   "display_name": "Python 3",
   "language": "python",
   "name": "python3"
  },
  "language_info": {
   "codemirror_mode": {
    "name": "ipython",
    "version": 3
   },
   "file_extension": ".py",
   "mimetype": "text/x-python",
   "name": "python",
   "nbconvert_exporter": "python",
   "pygments_lexer": "ipython3",
   "version": "3.9.10"
  },
  "orig_nbformat": 4,
  "vscode": {
   "interpreter": {
    "hash": "25718719a2de52540f1832d97c8f9d1d8edfb772ef2132f3f8b0e08630253b9a"
   }
  }
 },
 "nbformat": 4,
 "nbformat_minor": 2
}
