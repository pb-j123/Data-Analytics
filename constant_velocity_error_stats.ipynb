{
 "cells": [
  {
   "cell_type": "code",
   "execution_count": 1,
   "metadata": {},
   "outputs": [],
   "source": [
    "import pandas as pd\n",
    "import matplotlib as mpl\n",
    "import matplotlib.pyplot as plt\n",
    "import numpy as np\n"
   ]
  },
  {
   "cell_type": "code",
   "execution_count": 2,
   "metadata": {},
   "outputs": [],
   "source": [
    "import seaborn as sns\n"
   ]
  },
  {
   "cell_type": "code",
   "execution_count": 9,
   "metadata": {},
   "outputs": [],
   "source": [
    "import scipy"
   ]
  },
  {
   "cell_type": "code",
   "execution_count": 4,
   "metadata": {},
   "outputs": [
    {
     "data": {
      "text/html": [
       "<div>\n",
       "<style scoped>\n",
       "    .dataframe tbody tr th:only-of-type {\n",
       "        vertical-align: middle;\n",
       "    }\n",
       "\n",
       "    .dataframe tbody tr th {\n",
       "        vertical-align: top;\n",
       "    }\n",
       "\n",
       "    .dataframe thead th {\n",
       "        text-align: right;\n",
       "    }\n",
       "</style>\n",
       "<table border=\"1\" class=\"dataframe\">\n",
       "  <thead>\n",
       "    <tr style=\"text-align: right;\">\n",
       "      <th></th>\n",
       "      <th>Speed (mm/min)</th>\n",
       "      <th>Change in Diagonal Length (mm)</th>\n",
       "      <th>Axis 1 Error (mm)</th>\n",
       "      <th>Axis 2 Error (mm)</th>\n",
       "    </tr>\n",
       "  </thead>\n",
       "  <tbody>\n",
       "    <tr>\n",
       "      <th>0</th>\n",
       "      <td>1.0</td>\n",
       "      <td>67.5</td>\n",
       "      <td>0.024</td>\n",
       "      <td>0.024</td>\n",
       "    </tr>\n",
       "    <tr>\n",
       "      <th>1</th>\n",
       "      <td>2.0</td>\n",
       "      <td>67.5</td>\n",
       "      <td>0.040</td>\n",
       "      <td>0.030</td>\n",
       "    </tr>\n",
       "    <tr>\n",
       "      <th>2</th>\n",
       "      <td>3.0</td>\n",
       "      <td>67.5</td>\n",
       "      <td>0.071</td>\n",
       "      <td>0.040</td>\n",
       "    </tr>\n",
       "    <tr>\n",
       "      <th>3</th>\n",
       "      <td>4.0</td>\n",
       "      <td>67.5</td>\n",
       "      <td>0.035</td>\n",
       "      <td>0.016</td>\n",
       "    </tr>\n",
       "    <tr>\n",
       "      <th>4</th>\n",
       "      <td>5.0</td>\n",
       "      <td>67.5</td>\n",
       "      <td>0.030</td>\n",
       "      <td>0.030</td>\n",
       "    </tr>\n",
       "    <tr>\n",
       "      <th>5</th>\n",
       "      <td>1.0</td>\n",
       "      <td>33.6</td>\n",
       "      <td>0.015</td>\n",
       "      <td>0.045</td>\n",
       "    </tr>\n",
       "    <tr>\n",
       "      <th>6</th>\n",
       "      <td>2.0</td>\n",
       "      <td>33.6</td>\n",
       "      <td>0.033</td>\n",
       "      <td>0.018</td>\n",
       "    </tr>\n",
       "    <tr>\n",
       "      <th>7</th>\n",
       "      <td>3.0</td>\n",
       "      <td>33.6</td>\n",
       "      <td>0.020</td>\n",
       "      <td>0.010</td>\n",
       "    </tr>\n",
       "    <tr>\n",
       "      <th>8</th>\n",
       "      <td>4.0</td>\n",
       "      <td>33.6</td>\n",
       "      <td>0.050</td>\n",
       "      <td>0.024</td>\n",
       "    </tr>\n",
       "    <tr>\n",
       "      <th>9</th>\n",
       "      <td>5.0</td>\n",
       "      <td>33.6</td>\n",
       "      <td>0.121</td>\n",
       "      <td>0.050</td>\n",
       "    </tr>\n",
       "  </tbody>\n",
       "</table>\n",
       "</div>"
      ],
      "text/plain": [
       "   Speed (mm/min)  Change in Diagonal Length (mm)  Axis 1 Error (mm)  \\\n",
       "0             1.0                            67.5              0.024   \n",
       "1             2.0                            67.5              0.040   \n",
       "2             3.0                            67.5              0.071   \n",
       "3             4.0                            67.5              0.035   \n",
       "4             5.0                            67.5              0.030   \n",
       "5             1.0                            33.6              0.015   \n",
       "6             2.0                            33.6              0.033   \n",
       "7             3.0                            33.6              0.020   \n",
       "8             4.0                            33.6              0.050   \n",
       "9             5.0                            33.6              0.121   \n",
       "\n",
       "   Axis 2 Error (mm)  \n",
       "0              0.024  \n",
       "1              0.030  \n",
       "2              0.040  \n",
       "3              0.016  \n",
       "4              0.030  \n",
       "5              0.045  \n",
       "6              0.018  \n",
       "7              0.010  \n",
       "8              0.024  \n",
       "9              0.050  "
      ]
     },
     "execution_count": 4,
     "metadata": {},
     "output_type": "execute_result"
    }
   ],
   "source": [
    "array = np.array([[1,2,3,4,5,1,2,3,4,5],[67.5,67.5,67.5,67.5,67.5,33.6,33.6,33.6,33.6,33.6],[.024,.04,.071,.035,.03,.015,.033,.02,.05,.121],[.024,.03,.04,.016,.03,.045,.018,.01,.024,.05]])\n",
    "df = pd.DataFrame(array)\n",
    "headers = ['Speed (mm/min)','Change in Diagonal Length (mm)','Axis 1 Error (mm)','Axis 2 Error (mm)']\n",
    "df = df.transpose()\n",
    "df.columns = headers\n",
    "df"
   ]
  },
  {
   "cell_type": "code",
   "execution_count": 5,
   "metadata": {},
   "outputs": [],
   "source": [
    "from scipy import stats"
   ]
  },
  {
   "cell_type": "code",
   "execution_count": 6,
   "metadata": {},
   "outputs": [
    {
     "data": {
      "text/html": [
       "<div>\n",
       "<style scoped>\n",
       "    .dataframe tbody tr th:only-of-type {\n",
       "        vertical-align: middle;\n",
       "    }\n",
       "\n",
       "    .dataframe tbody tr th {\n",
       "        vertical-align: top;\n",
       "    }\n",
       "\n",
       "    .dataframe thead th {\n",
       "        text-align: right;\n",
       "    }\n",
       "</style>\n",
       "<table border=\"1\" class=\"dataframe\">\n",
       "  <thead>\n",
       "    <tr style=\"text-align: right;\">\n",
       "      <th></th>\n",
       "      <th>Speed (mm/min)</th>\n",
       "      <th>Change in Diagonal Length (mm)</th>\n",
       "      <th>Axis 1 Error (mm)</th>\n",
       "      <th>Axis 2 Error (mm)</th>\n",
       "    </tr>\n",
       "  </thead>\n",
       "  <tbody>\n",
       "    <tr>\n",
       "      <th>count</th>\n",
       "      <td>10.000000</td>\n",
       "      <td>10.000000</td>\n",
       "      <td>10.000000</td>\n",
       "      <td>10.000000</td>\n",
       "    </tr>\n",
       "    <tr>\n",
       "      <th>mean</th>\n",
       "      <td>3.000000</td>\n",
       "      <td>50.550000</td>\n",
       "      <td>0.043900</td>\n",
       "      <td>0.028700</td>\n",
       "    </tr>\n",
       "    <tr>\n",
       "      <th>std</th>\n",
       "      <td>1.490712</td>\n",
       "      <td>17.866869</td>\n",
       "      <td>0.031491</td>\n",
       "      <td>0.012996</td>\n",
       "    </tr>\n",
       "    <tr>\n",
       "      <th>min</th>\n",
       "      <td>1.000000</td>\n",
       "      <td>33.600000</td>\n",
       "      <td>0.015000</td>\n",
       "      <td>0.010000</td>\n",
       "    </tr>\n",
       "    <tr>\n",
       "      <th>25%</th>\n",
       "      <td>2.000000</td>\n",
       "      <td>33.600000</td>\n",
       "      <td>0.025500</td>\n",
       "      <td>0.019500</td>\n",
       "    </tr>\n",
       "    <tr>\n",
       "      <th>50%</th>\n",
       "      <td>3.000000</td>\n",
       "      <td>50.550000</td>\n",
       "      <td>0.034000</td>\n",
       "      <td>0.027000</td>\n",
       "    </tr>\n",
       "    <tr>\n",
       "      <th>75%</th>\n",
       "      <td>4.000000</td>\n",
       "      <td>67.500000</td>\n",
       "      <td>0.047500</td>\n",
       "      <td>0.037500</td>\n",
       "    </tr>\n",
       "    <tr>\n",
       "      <th>max</th>\n",
       "      <td>5.000000</td>\n",
       "      <td>67.500000</td>\n",
       "      <td>0.121000</td>\n",
       "      <td>0.050000</td>\n",
       "    </tr>\n",
       "  </tbody>\n",
       "</table>\n",
       "</div>"
      ],
      "text/plain": [
       "       Speed (mm/min)  Change in Diagonal Length (mm)  Axis 1 Error (mm)  \\\n",
       "count       10.000000                       10.000000          10.000000   \n",
       "mean         3.000000                       50.550000           0.043900   \n",
       "std          1.490712                       17.866869           0.031491   \n",
       "min          1.000000                       33.600000           0.015000   \n",
       "25%          2.000000                       33.600000           0.025500   \n",
       "50%          3.000000                       50.550000           0.034000   \n",
       "75%          4.000000                       67.500000           0.047500   \n",
       "max          5.000000                       67.500000           0.121000   \n",
       "\n",
       "       Axis 2 Error (mm)  \n",
       "count          10.000000  \n",
       "mean            0.028700  \n",
       "std             0.012996  \n",
       "min             0.010000  \n",
       "25%             0.019500  \n",
       "50%             0.027000  \n",
       "75%             0.037500  \n",
       "max             0.050000  "
      ]
     },
     "execution_count": 6,
     "metadata": {},
     "output_type": "execute_result"
    }
   ],
   "source": [
    "df.describe()"
   ]
  },
  {
   "cell_type": "code",
   "execution_count": 7,
   "metadata": {},
   "outputs": [
    {
     "data": {
      "text/plain": [
       "Text(0, 0.5, 'Error (mm)')"
      ]
     },
     "execution_count": 7,
     "metadata": {},
     "output_type": "execute_result"
    },
    {
     "data": {
      "image/png": "[encoded data removed]",
      "text/plain": [
       "<Figure size 640x480 with 1 Axes>"
      ]
     },
     "metadata": {},
     "output_type": "display_data"
    }
   ],
   "source": [
    "sns.regplot(x='Speed (mm/min)', y='Axis 2 Error (mm)', data=df, label = 'Axis 2')\n",
    "sns.regplot(x='Speed (mm/min)', y='Axis 1 Error (mm)', data=df, label='Axis 1')\n",
    "plt.legend()\n",
    "plt.ylabel('Error (mm)')"
   ]
  },
  {
   "cell_type": "code",
   "execution_count": 8,
   "metadata": {},
   "outputs": [
    {
     "name": "stdout",
     "output_type": "stream",
     "text": [
      "The Pearson Correlation Coefficient is 0.08029286568544922  with a P-value of P = 0.8254873283788399\n"
     ]
    }
   ],
   "source": [
    "pearson_coef, p_value = stats.pearsonr(df['Speed (mm/min)'], df['Axis 2 Error (mm)'])\n",
    "print(\"The Pearson Correlation Coefficient is\", pearson_coef, \" with a P-value of P =\", p_value) "
   ]
  },
  {
   "cell_type": "code",
   "execution_count": null,
   "metadata": {},
   "outputs": [],
   "source": []
  }
 ],
 "metadata": {
  "kernelspec": {
   "display_name": "Python 3",
   "language": "python",
   "name": "python3"
  },
  "language_info": {
   "codemirror_mode": {
    "name": "ipython",
    "version": 3
   },
   "file_extension": ".py",
   "mimetype": "text/x-python",
   "name": "python",
   "nbconvert_exporter": "python",
   "pygments_lexer": "ipython3",
   "version": "3.9.10"
  },
  "orig_nbformat": 4
 },
 "nbformat": 4,
 "nbformat_minor": 2
}
